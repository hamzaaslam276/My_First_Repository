{
 "cells": [
  {
   "cell_type": "code",
   "execution_count": 14,
   "id": "52b05a29-8c5c-40bd-91a3-57c53c27d1cd",
   "metadata": {},
   "outputs": [],
   "source": [
    "### Variable"
   ]
  },
  {
   "cell_type": "code",
   "execution_count": 15,
   "id": "5aafc52d-3895-48e2-9259-3f3e710b0b5d",
   "metadata": {},
   "outputs": [
    {
     "name": "stdout",
     "output_type": "stream",
     "text": [
      "Hamza\n",
      "<class 'str'>\n"
     ]
    },
    {
     "data": {
      "text/plain": [
       "1391858254320"
      ]
     },
     "execution_count": 15,
     "metadata": {},
     "output_type": "execute_result"
    }
   ],
   "source": [
    "name = \"Hamza\"\n",
    "print(name)\n",
    "print(type(name))\n",
    "id(name)"
   ]
  },
  {
   "cell_type": "code",
   "execution_count": 16,
   "id": "a6243f88-159f-417a-8e5a-2e49c8d2a018",
   "metadata": {
    "scrolled": true
   },
   "outputs": [
    {
     "name": "stdout",
     "output_type": "stream",
     "text": [
      "Aslam\n",
      "<class 'str'>\n"
     ]
    },
    {
     "data": {
      "text/plain": [
       "1391858369712"
      ]
     },
     "execution_count": 16,
     "metadata": {},
     "output_type": "execute_result"
    }
   ],
   "source": [
    "last_name = \"Aslam\"\n",
    "print(last_name)\n",
    "print(type(last_name))\n",
    "id(last_name)"
   ]
  },
  {
   "cell_type": "code",
   "execution_count": 17,
   "id": "4a50bf32-0391-4727-92fb-8e9c3be5c85a",
   "metadata": {},
   "outputs": [
    {
     "name": "stdout",
     "output_type": "stream",
     "text": [
      "Hamza said, \"Today is OFF\"\n"
     ]
    }
   ],
   "source": [
    "print('Hamza said, \"Today is OFF\"')"
   ]
  },
  {
   "cell_type": "code",
   "execution_count": 18,
   "id": "00bc821c-a06f-455f-858b-d8fac3bf7549",
   "metadata": {},
   "outputs": [
    {
     "name": "stdout",
     "output_type": "stream",
     "text": [
      "Hamza said, \"Today is OFF\"\n"
     ]
    }
   ],
   "source": [
    "print(\"Hamza said, \\\"Today is OFF\\\"\")"
   ]
  },
  {
   "cell_type": "code",
   "execution_count": 19,
   "id": "a61decc3-c3ee-4079-b9c4-e3e81c2fc4b2",
   "metadata": {},
   "outputs": [],
   "source": [
    "poem = '''Humpty Dumpty sat on a wall.\n",
    "Humpty Dumpty had a great fall.\n",
    "All the king's horses and all the king's men\n",
    "Couldn't put Humpty together again. '''"
   ]
  },
  {
   "cell_type": "code",
   "execution_count": 20,
   "id": "ea7e6865-5c2d-4b18-b3d8-8fea45e3fdf8",
   "metadata": {},
   "outputs": [
    {
     "name": "stdout",
     "output_type": "stream",
     "text": [
      "Humpty Dumpty sat on a wall.\n",
      "Humpty Dumpty had a great fall.\n",
      "All the king's horses and all the king's men\n",
      "Couldn't put Humpty together again. \n"
     ]
    }
   ],
   "source": [
    "print(poem)"
   ]
  },
  {
   "cell_type": "code",
   "execution_count": 70,
   "id": "4e570f1e-a9e3-4003-b3aa-4b9f8ac69563",
   "metadata": {},
   "outputs": [
    {
     "name": "stdout",
     "output_type": "stream",
     "text": [
      "29\n",
      "<class 'int'>\n"
     ]
    },
    {
     "data": {
      "text/plain": [
       "140720168879784"
      ]
     },
     "execution_count": 70,
     "metadata": {},
     "output_type": "execute_result"
    }
   ],
   "source": [
    "Age = 29\n",
    "print(Age)\n",
    "print(type(Age))\n",
    "id(Age)"
   ]
  },
  {
   "cell_type": "code",
   "execution_count": 22,
   "id": "4ea8907d-37b7-4907-8588-23cb6b08d796",
   "metadata": {},
   "outputs": [
    {
     "name": "stdout",
     "output_type": "stream",
     "text": [
      "73.5\n",
      "<class 'float'>\n"
     ]
    },
    {
     "data": {
      "text/plain": [
       "1391871918192"
      ]
     },
     "execution_count": 22,
     "metadata": {},
     "output_type": "execute_result"
    }
   ],
   "source": [
    "weight = 73.5\n",
    "print(weight)\n",
    "print(type(weight))\n",
    "id(weight)"
   ]
  },
  {
   "cell_type": "code",
   "execution_count": 23,
   "id": "552d2e71-9c58-4f41-a4b0-ef6fee380385",
   "metadata": {},
   "outputs": [
    {
     "name": "stdout",
     "output_type": "stream",
     "text": [
      "True\n",
      "<class 'bool'>\n"
     ]
    },
    {
     "data": {
      "text/plain": [
       "140720167406144"
      ]
     },
     "execution_count": 23,
     "metadata": {},
     "output_type": "execute_result"
    }
   ],
   "source": [
    "is_present = True\n",
    "print(is_present)\n",
    "print(type(is_present))\n",
    "id(is_present)"
   ]
  },
  {
   "cell_type": "code",
   "execution_count": 24,
   "id": "99c9a74b-d512-4898-bf5c-da332595e462",
   "metadata": {},
   "outputs": [],
   "source": [
    "### Operator"
   ]
  },
  {
   "cell_type": "code",
   "execution_count": 25,
   "id": "29cb8877-b55b-425f-9490-d288b10b8d5b",
   "metadata": {},
   "outputs": [
    {
     "data": {
      "text/plain": [
       "4"
      ]
     },
     "execution_count": 25,
     "metadata": {},
     "output_type": "execute_result"
    }
   ],
   "source": [
    "2+2"
   ]
  },
  {
   "cell_type": "code",
   "execution_count": 26,
   "id": "7d2fe4fe-1ef2-4f55-a295-d0df4d59951d",
   "metadata": {},
   "outputs": [
    {
     "data": {
      "text/plain": [
       "2"
      ]
     },
     "execution_count": 26,
     "metadata": {},
     "output_type": "execute_result"
    }
   ],
   "source": [
    "4-2"
   ]
  },
  {
   "cell_type": "code",
   "execution_count": 27,
   "id": "5408cb4c-673d-4b23-a55e-f3a7835db9b4",
   "metadata": {},
   "outputs": [
    {
     "data": {
      "text/plain": [
       "4"
      ]
     },
     "execution_count": 27,
     "metadata": {},
     "output_type": "execute_result"
    }
   ],
   "source": [
    "2*2"
   ]
  },
  {
   "cell_type": "code",
   "execution_count": 28,
   "id": "27c7edf9-e551-47ea-ae10-6af8ac917187",
   "metadata": {},
   "outputs": [
    {
     "data": {
      "text/plain": [
       "1.0"
      ]
     },
     "execution_count": 28,
     "metadata": {},
     "output_type": "execute_result"
    }
   ],
   "source": [
    "6/6"
   ]
  },
  {
   "cell_type": "code",
   "execution_count": 29,
   "id": "3d30b01f-b8f8-4164-a33c-bafb6619dfe1",
   "metadata": {},
   "outputs": [
    {
     "data": {
      "text/plain": [
       "9"
      ]
     },
     "execution_count": 29,
     "metadata": {},
     "output_type": "execute_result"
    }
   ],
   "source": [
    "3**2"
   ]
  },
  {
   "cell_type": "code",
   "execution_count": 30,
   "id": "ef9422ed-6b4a-4c4b-b468-da8424277a96",
   "metadata": {},
   "outputs": [
    {
     "data": {
      "text/plain": [
       "2"
      ]
     },
     "execution_count": 30,
     "metadata": {},
     "output_type": "execute_result"
    }
   ],
   "source": [
    "5//2  #floor -->round-off to lower point"
   ]
  },
  {
   "cell_type": "code",
   "execution_count": 31,
   "id": "68e2fe25-6fd5-48a2-be64-1ea460c17d23",
   "metadata": {},
   "outputs": [],
   "source": [
    "# ceil --> round- off to uppe point"
   ]
  },
  {
   "cell_type": "code",
   "execution_count": 32,
   "id": "ad7d0152-828b-4438-ac66-c21d3fb5c03a",
   "metadata": {},
   "outputs": [
    {
     "name": "stdout",
     "output_type": "stream",
     "text": [
      "result is: 3\n"
     ]
    }
   ],
   "source": [
    "import math\n",
    "x = 5/2\n",
    "y = (math.ceil(x))\n",
    "print(\"result is:\",y)"
   ]
  },
  {
   "cell_type": "code",
   "execution_count": 33,
   "id": "82e13eaa-ffd7-4741-b363-7efe4e0666ee",
   "metadata": {},
   "outputs": [
    {
     "name": "stdout",
     "output_type": "stream",
     "text": [
      "3\n"
     ]
    }
   ],
   "source": [
    "import math\n",
    "x = 5/2\n",
    "y = (math.ceil(x))\n",
    "print(y)"
   ]
  },
  {
   "cell_type": "code",
   "execution_count": 34,
   "id": "9f536125-740c-4470-a145-73c187f721d4",
   "metadata": {
    "jp-MarkdownHeadingCollapsed": true
   },
   "outputs": [
    {
     "name": "stdout",
     "output_type": "stream",
     "text": [
      "3\n"
     ]
    }
   ],
   "source": [
    "x = 5/2\n",
    "y = (math.ceil(x))\n",
    "print(y)"
   ]
  },
  {
   "cell_type": "code",
   "execution_count": 35,
   "id": "e952b3c5-7beb-4bbc-b3df-195e8ed42eed",
   "metadata": {},
   "outputs": [
    {
     "name": "stdout",
     "output_type": "stream",
     "text": [
      "3\n"
     ]
    }
   ],
   "source": [
    "x = 5/2\n",
    "y = (math.ceil(x))\n",
    "print(y)"
   ]
  },
  {
   "cell_type": "code",
   "execution_count": 36,
   "id": "de04f7ef-c6f7-43e1-affd-6810734b0388",
   "metadata": {},
   "outputs": [
    {
     "name": "stdout",
     "output_type": "stream",
     "text": [
      "3\n"
     ]
    }
   ],
   "source": [
    "y = (math.ceil(5/2))\n",
    "print(y)"
   ]
  },
  {
   "cell_type": "code",
   "execution_count": 37,
   "id": "b5263645-2ade-4886-8ab5-7c468671a115",
   "metadata": {},
   "outputs": [],
   "source": [
    "### Keywords"
   ]
  },
  {
   "cell_type": "code",
   "execution_count": 38,
   "id": "67ecd212-c488-400d-b0c4-b9e46b9dfc93",
   "metadata": {},
   "outputs": [
    {
     "name": "stdout",
     "output_type": "stream",
     "text": [
      "33\n"
     ]
    }
   ],
   "source": [
    "age = 33\n",
    "print(age)"
   ]
  },
  {
   "cell_type": "code",
   "execution_count": 39,
   "id": "bec854bc-dcd7-42ff-b1a2-bb44ef515a0a",
   "metadata": {},
   "outputs": [
    {
     "name": "stdout",
     "output_type": "stream",
     "text": [
      "36\n"
     ]
    }
   ],
   "source": [
    "age += 3\n",
    "print(age)"
   ]
  },
  {
   "cell_type": "code",
   "execution_count": 40,
   "id": "6660624a-9aaf-47c7-8c32-fe3eaf190fea",
   "metadata": {},
   "outputs": [
    {
     "name": "stdout",
     "output_type": "stream",
     "text": [
      "62\n"
     ]
    }
   ],
   "source": [
    "age = 12\n",
    "age += 50\n",
    "print(age)"
   ]
  },
  {
   "cell_type": "code",
   "execution_count": 41,
   "id": "f68ccdec-ca72-4c25-a4de-5b46f27e8298",
   "metadata": {},
   "outputs": [
    {
     "name": "stdout",
     "output_type": "stream",
     "text": [
      "10\n"
     ]
    }
   ],
   "source": [
    "age = 12\n",
    "age -= 2\n",
    "print(age)"
   ]
  },
  {
   "cell_type": "code",
   "execution_count": 42,
   "id": "13973fc7-16e8-4a9a-8dcf-592222d7fabf",
   "metadata": {},
   "outputs": [
    {
     "name": "stdout",
     "output_type": "stream",
     "text": [
      "2\n"
     ]
    }
   ],
   "source": [
    "whats_left_over = 44 % 3\n",
    "print(whats_left_over)"
   ]
  },
  {
   "cell_type": "code",
   "execution_count": 43,
   "id": "d1df5b94-1687-4880-a05c-2e2de9b25880",
   "metadata": {},
   "outputs": [
    {
     "name": "stdout",
     "output_type": "stream",
     "text": [
      "3.0\n"
     ]
    }
   ],
   "source": [
    "whats_left_over = 9 / 3\n",
    "print(whats_left_over)"
   ]
  },
  {
   "cell_type": "code",
   "execution_count": 44,
   "id": "0d7c28a2-045f-434f-8ca7-e6a70d2e3295",
   "metadata": {},
   "outputs": [
    {
     "name": "stdout",
     "output_type": "stream",
     "text": [
      "3.0\n"
     ]
    }
   ],
   "source": [
    "whats_left_over = 9 / 3\n",
    "print(whats_left_over)"
   ]
  },
  {
   "cell_type": "code",
   "execution_count": 45,
   "id": "282d955a-4f45-49d1-a300-fa29f0bc6878",
   "metadata": {},
   "outputs": [
    {
     "name": "stdout",
     "output_type": "stream",
     "text": [
      "15\n"
     ]
    }
   ],
   "source": [
    "age = 12\n",
    "amount_to_increment = 3\n",
    "age += amount_to_increment\n",
    "print(age)"
   ]
  },
  {
   "cell_type": "code",
   "execution_count": 46,
   "id": "eb789b6a-6dad-414f-b6f9-a8b97d094348",
   "metadata": {},
   "outputs": [
    {
     "name": "stdout",
     "output_type": "stream",
     "text": [
      "13\n"
     ]
    }
   ],
   "source": [
    "total_cost = 1 + 3 * 4\n",
    "print(total_cost)"
   ]
  },
  {
   "cell_type": "code",
   "execution_count": 47,
   "id": "e15622e7-49bb-4429-bbba-ecf62b609485",
   "metadata": {},
   "outputs": [
    {
     "name": "stdout",
     "output_type": "stream",
     "text": [
      "13\n"
     ]
    }
   ],
   "source": [
    "total_cost = 1 + (3 * 4)\n",
    "print(total_cost)"
   ]
  },
  {
   "cell_type": "code",
   "execution_count": 48,
   "id": "aac8b088-a512-4414-b769-bec44c0dcd86",
   "metadata": {},
   "outputs": [
    {
     "name": "stdout",
     "output_type": "stream",
     "text": [
      "16\n"
     ]
    }
   ],
   "source": [
    "total_cost = (1 + 3) * 4\n",
    "print(total_cost)"
   ]
  },
  {
   "cell_type": "code",
   "execution_count": 49,
   "id": "5ade11ca-4873-4b56-93a6-bdd3533d844b",
   "metadata": {},
   "outputs": [
    {
     "name": "stdout",
     "output_type": "stream",
     "text": [
      "40\n"
     ]
    }
   ],
   "source": [
    "result_of_computation = (2 * 4) * 4 + 8\n",
    "print(result_of_computation)"
   ]
  },
  {
   "cell_type": "code",
   "execution_count": 50,
   "id": "36bc3fae-5f05-4aa0-b91d-028201313ccc",
   "metadata": {},
   "outputs": [
    {
     "name": "stdout",
     "output_type": "stream",
     "text": [
      "48\n"
     ]
    }
   ],
   "source": [
    "result_of_computation =  (2 * 4) * (4 + 2)\n",
    "print(result_of_computation)"
   ]
  },
  {
   "cell_type": "code",
   "execution_count": 51,
   "id": "f6bd94a9-c623-44d0-a143-32e3932d1015",
   "metadata": {},
   "outputs": [
    {
     "name": "stdout",
     "output_type": "stream",
     "text": [
      "Hello, World!\n"
     ]
    }
   ],
   "source": [
    "print(\"Hello, World!\")"
   ]
  },
  {
   "cell_type": "code",
   "execution_count": 52,
   "id": "84160b02-6f9b-45c1-8896-93ca6fc577fc",
   "metadata": {},
   "outputs": [
    {
     "name": "stdout",
     "output_type": "stream",
     "text": [
      "Hello, World!\n"
     ]
    }
   ],
   "source": [
    "greeting = \"Hello, World!\"\n",
    "print(greeting)"
   ]
  },
  {
   "cell_type": "code",
   "execution_count": 53,
   "id": "eec9be09-507d-439a-959f-01371facf92f",
   "metadata": {},
   "outputs": [
    {
     "name": "stdout",
     "output_type": "stream",
     "text": [
      "Hello  World\n"
     ]
    }
   ],
   "source": [
    "greeting = \"Hello \"\n",
    "addressee = \" World\"\n",
    "whole_greeting = greeting + addressee\n",
    "print(whole_greeting)"
   ]
  },
  {
   "cell_type": "code",
   "execution_count": 54,
   "id": "4b9b3e84-a80f-4ffd-9e7b-4757ca767cad",
   "metadata": {},
   "outputs": [
    {
     "name": "stdout",
     "output_type": "stream",
     "text": [
      "The sum of 2 plus 2 is 4\n"
     ]
    }
   ],
   "source": [
    "print(\"The sum of 2 plus 2 is \" + \"4\")"
   ]
  },
  {
   "cell_type": "code",
   "execution_count": 55,
   "id": "4c66f5c7-7a58-4ccf-a7b5-e1577a85d8a8",
   "metadata": {},
   "outputs": [
    {
     "name": "stdout",
     "output_type": "stream",
     "text": [
      "Hello, World!\n"
     ]
    }
   ],
   "source": [
    "greeting = \"Hello\"\n",
    "separators = \", \"\n",
    "addressee = \"World\"\n",
    "punc = \"!\"\n",
    "whole_greeting = greeting + separators + addressee + punc\n",
    "print(whole_greeting)"
   ]
  },
  {
   "cell_type": "code",
   "execution_count": 56,
   "id": "97764383-9e4b-4c1a-9038-dc264adbd642",
   "metadata": {},
   "outputs": [
    {
     "name": "stdout",
     "output_type": "stream",
     "text": [
      "Hello, World!\n"
     ]
    }
   ],
   "source": [
    "whole_greeting = \"Hello\" + separators + \"World\" + punc\n",
    "print(whole_greeting)"
   ]
  },
  {
   "cell_type": "code",
   "execution_count": 57,
   "id": "93484bc1-6c41-4e96-98cc-5408123ec2b8",
   "metadata": {},
   "outputs": [
    {
     "name": "stdout",
     "output_type": "stream",
     "text": [
      "Hello, World!\n"
     ]
    }
   ],
   "source": [
    "print(greeting + separators + addressee + punc)"
   ]
  },
  {
   "cell_type": "code",
   "execution_count": 15,
   "id": "8b526ac5-b841-46ac-8968-16708d367ee7",
   "metadata": {},
   "outputs": [
    {
     "data": {
      "text/plain": [
       "'Hamza Aslam'"
      ]
     },
     "execution_count": 15,
     "metadata": {},
     "output_type": "execute_result"
    }
   ],
   "source": [
    "\"Hamza \" + \"Aslam\""
   ]
  },
  {
   "cell_type": "code",
   "execution_count": 59,
   "id": "dcfbe6b9-f208-4d57-976e-600ca4fd07c8",
   "metadata": {},
   "outputs": [
    {
     "data": {
      "text/plain": [
       "('Hamza ', 'Aslam')"
      ]
     },
     "execution_count": 59,
     "metadata": {},
     "output_type": "execute_result"
    }
   ],
   "source": [
    "\"Hamza \" , \"Aslam\""
   ]
  },
  {
   "cell_type": "code",
   "execution_count": 60,
   "id": "13fa2406-b59e-4aed-9d1c-b0424bed7fad",
   "metadata": {},
   "outputs": [
    {
     "name": "stdout",
     "output_type": "stream",
     "text": [
      "Hamza  Aslam\n"
     ]
    }
   ],
   "source": [
    "print(\"Hamza \" , \"Aslam\")"
   ]
  },
  {
   "cell_type": "code",
   "execution_count": 61,
   "id": "79b8c988-eafc-4410-90fe-c274990c0bd2",
   "metadata": {},
   "outputs": [
    {
     "data": {
      "text/plain": [
       "('Hamza', 15, 73.5)"
      ]
     },
     "execution_count": 61,
     "metadata": {},
     "output_type": "execute_result"
    }
   ],
   "source": [
    "name, age, weight"
   ]
  },
  {
   "cell_type": "code",
   "execution_count": 73,
   "id": "4265eba1-0ecc-43e6-80b6-78d88568cfad",
   "metadata": {},
   "outputs": [
    {
     "data": {
      "text/plain": [
       "('Hamza', 29, 73.5)"
      ]
     },
     "execution_count": 73,
     "metadata": {},
     "output_type": "execute_result"
    }
   ],
   "source": [
    "name, Age, weight"
   ]
  },
  {
   "cell_type": "code",
   "execution_count": 72,
   "id": "d0e07e32-13fd-4136-8acb-80aaeadb436d",
   "metadata": {},
   "outputs": [
    {
     "name": "stdout",
     "output_type": "stream",
     "text": [
      "Student Name:  Hamza\n",
      "Student Age:  29\n",
      "Student Weight:  73.5\n"
     ]
    }
   ],
   "source": [
    "print(\"Student Name: \", name)\n",
    "print(\"Student Age: \", Age)\n",
    "print(\"Student Weight: \", weight)"
   ]
  },
  {
   "cell_type": "code",
   "execution_count": 71,
   "id": "13ccbbc8-c4a0-432e-948a-98dcaae641c9",
   "metadata": {},
   "outputs": [
    {
     "name": "stdout",
     "output_type": "stream",
     "text": [
      "Student Name: Hamza\n",
      "Student Age: 29\n",
      "Student Weight: 73.5\n"
     ]
    }
   ],
   "source": [
    "print(\"Student Name: \"+ name)\n",
    "print(\"Student Age: \"+ str(Age))\n",
    "print(\"Student Weight: \" + str(weight))"
   ]
  },
  {
   "cell_type": "code",
   "execution_count": 77,
   "id": "94e31942-e212-45bb-8ff9-574504636e1c",
   "metadata": {},
   "outputs": [
    {
     "name": "stdout",
     "output_type": "stream",
     "text": [
      "Student Name:Hamza\n",
      "Student Age:29\n",
      "Student Weight:73.5\n"
     ]
    }
   ],
   "source": [
    "print(f\"Student Name:{name}\")\n",
    "print(f\"Student Age:{Age}\")\n",
    "print(f\"Student Weight:{weight}\")"
   ]
  },
  {
   "cell_type": "code",
   "execution_count": 78,
   "id": "2de32e47-76f0-489f-b57b-6544e11e080a",
   "metadata": {},
   "outputs": [
    {
     "name": "stdout",
     "output_type": "stream",
     "text": [
      "Yep, it's cat.\n"
     ]
    }
   ],
   "source": [
    "print(\"Yep, it's cat.\")"
   ]
  },
  {
   "cell_type": "code",
   "execution_count": 2,
   "id": "7b16e8ce-155e-49ca-8510-6ab3bddc9db3",
   "metadata": {},
   "outputs": [
    {
     "ename": "IndentationError",
     "evalue": "expected an indented block after 'if' statement on line 1 (4206303160.py, line 2)",
     "output_type": "error",
     "traceback": [
      "\u001b[1;36m  Cell \u001b[1;32mIn[2], line 2\u001b[1;36m\u001b[0m\n\u001b[1;33m    print(\"Yep, it's cat.\")\u001b[0m\n\u001b[1;37m    ^\u001b[0m\n\u001b[1;31mIndentationError\u001b[0m\u001b[1;31m:\u001b[0m expected an indented block after 'if' statement on line 1\n"
     ]
    }
   ],
   "source": [
    "if species == \"cat\":\n",
    "print(\"Yep, it's cat.\")"
   ]
  },
  {
   "cell_type": "code",
   "execution_count": 84,
   "id": "90ed5408-529e-4746-8728-a11b8697a824",
   "metadata": {},
   "outputs": [],
   "source": [
    "species = \"cat\""
   ]
  },
  {
   "cell_type": "code",
   "execution_count": 91,
   "id": "ec7c9637-d2cf-4835-a4cc-41dc2fc2f6a3",
   "metadata": {},
   "outputs": [
    {
     "data": {
      "text/plain": [
       "True"
      ]
     },
     "execution_count": 91,
     "metadata": {},
     "output_type": "execute_result"
    }
   ],
   "source": [
    "species == \"cat\""
   ]
  },
  {
   "cell_type": "code",
   "execution_count": 96,
   "id": "e2ecd663-4ea4-4b7c-aab0-fa2b7c570e79",
   "metadata": {},
   "outputs": [
    {
     "name": "stdout",
     "output_type": "stream",
     "text": [
      "Yep, it's cat.\n"
     ]
    }
   ],
   "source": [
    "species == \"cat\"\n",
    "status = \"ok\"\n",
    "kingdom = \"animal\"\n",
    "print(\"Yep, it's cat.\")"
   ]
  },
  {
   "cell_type": "code",
   "execution_count": 97,
   "id": "b320d796-9d55-46d1-8cc4-fde81b5312b5",
   "metadata": {},
   "outputs": [
    {
     "ename": "IndentationError",
     "evalue": "expected an indented block after 'if' statement on line 1 (1151527098.py, line 2)",
     "output_type": "error",
     "traceback": [
      "\u001b[1;36m  Cell \u001b[1;32mIn[97], line 2\u001b[1;36m\u001b[0m\n\u001b[1;33m    print(\"Everything makes sense.\")\u001b[0m\n\u001b[1;37m    ^\u001b[0m\n\u001b[1;31mIndentationError\u001b[0m\u001b[1;31m:\u001b[0m expected an indented block after 'if' statement on line 1\n"
     ]
    }
   ],
   "source": [
    " if 2 + 2 == 4:\n",
    "print(\"Everything makes sense.\")"
   ]
  },
  {
   "cell_type": "code",
   "execution_count": 98,
   "id": "4a27c9e2-e0d0-4232-afb1-fbf25a12176d",
   "metadata": {},
   "outputs": [
    {
     "ename": "IndentationError",
     "evalue": "expected an indented block after 'if' statement on line 1 (3501192678.py, line 2)",
     "output_type": "error",
     "traceback": [
      "\u001b[1;36m  Cell \u001b[1;32mIn[98], line 2\u001b[1;36m\u001b[0m\n\u001b[1;33m    print(\"So far so good.\")\u001b[0m\n\u001b[1;37m    ^\u001b[0m\n\u001b[1;31mIndentationError\u001b[0m\u001b[1;31m:\u001b[0m expected an indented block after 'if' statement on line 1\n"
     ]
    }
   ],
   "source": [
    "if number_of_husbands == 1:\n",
    "print(\"So far so good.\")\n"
   ]
  },
  {
   "cell_type": "code",
   "execution_count": 103,
   "id": "f395e38d-bc2d-468d-85a4-9cb34e1389de",
   "metadata": {},
   "outputs": [
    {
     "name": "stdout",
     "output_type": "stream",
     "text": [
      "So far so good.\n",
      "Congratulations.\n",
      "All done\n"
     ]
    }
   ],
   "source": [
    "### number_of_husbands == 1:\n",
    "print(\"So far so good.\")\n",
    "print(\"Congratulations.\")\n",
    "print(\"All done\")"
   ]
  },
  {
   "cell_type": "code",
   "execution_count": 105,
   "id": "3a20ca03-ea13-433f-b732-782c26609480",
   "metadata": {},
   "outputs": [
    {
     "ename": "NameError",
     "evalue": "name 'number_of_husbands' is not defined",
     "output_type": "error",
     "traceback": [
      "\u001b[1;31m---------------------------------------------------------------------------\u001b[0m",
      "\u001b[1;31mNameError\u001b[0m                                 Traceback (most recent call last)",
      "Cell \u001b[1;32mIn[105], line 1\u001b[0m\n\u001b[1;32m----> 1\u001b[0m number_of_husbands \u001b[38;5;241m==\u001b[39m \u001b[38;5;241m1\u001b[39m\n",
      "\u001b[1;31mNameError\u001b[0m: name 'number_of_husbands' is not defined"
     ]
    }
   ],
   "source": [
    "number_of_husbands == 1"
   ]
  },
  {
   "cell_type": "code",
   "execution_count": 3,
   "id": "eaf9a86a-d2e6-4029-96e0-93a1c665fb83",
   "metadata": {},
   "outputs": [
    {
     "ename": "NameError",
     "evalue": "name 'full_name' is not defined",
     "output_type": "error",
     "traceback": [
      "\u001b[1;31m---------------------------------------------------------------------------\u001b[0m",
      "\u001b[1;31mNameError\u001b[0m                                 Traceback (most recent call last)",
      "Cell \u001b[1;32mIn[3], line 1\u001b[0m\n\u001b[1;32m----> 1\u001b[0m full_name \u001b[38;5;241m==\u001b[39m \u001b[38;5;124m\"\u001b[39m\u001b[38;5;124mMark\u001b[39m\u001b[38;5;124m\"\u001b[39m \u001b[38;5;241m+\u001b[39m \u001b[38;5;124m\"\u001b[39m\u001b[38;5;124m \u001b[39m\u001b[38;5;124m\"\u001b[39m \u001b[38;5;241m+\u001b[39m \u001b[38;5;124m\"\u001b[39m\u001b[38;5;124mMyers\u001b[39m\u001b[38;5;124m\"\u001b[39m\n\u001b[0;32m      2\u001b[0m \u001b[38;5;28mprint\u001b[39m(full_name)\n",
      "\u001b[1;31mNameError\u001b[0m: name 'full_name' is not defined"
     ]
    }
   ],
   "source": [
    "full_name == \"Mark\" + \" \" + \"Myers\"\n",
    "print(full_name)"
   ]
  },
  {
   "cell_type": "code",
   "execution_count": 4,
   "id": "f6fd6879-63d9-4ff2-b41c-9818096a2fc9",
   "metadata": {},
   "outputs": [
    {
     "ename": "NameError",
     "evalue": "name 'full_name' is not defined",
     "output_type": "error",
     "traceback": [
      "\u001b[1;31m---------------------------------------------------------------------------\u001b[0m",
      "\u001b[1;31mNameError\u001b[0m                                 Traceback (most recent call last)",
      "Cell \u001b[1;32mIn[4], line 1\u001b[0m\n\u001b[1;32m----> 1\u001b[0m full_name \u001b[38;5;241m==\u001b[39m first_name \u001b[38;5;241m+\u001b[39m \u001b[38;5;124m\"\u001b[39m\u001b[38;5;124m \u001b[39m\u001b[38;5;124m\"\u001b[39m \u001b[38;5;241m+\u001b[39m \u001b[38;5;124m\"\u001b[39m\u001b[38;5;124mMyers\u001b[39m\u001b[38;5;124m\"\u001b[39m\n",
      "\u001b[1;31mNameError\u001b[0m: name 'full_name' is not defined"
     ]
    }
   ],
   "source": [
    " full_name == first_name + \" \" + \"Myers\""
   ]
  },
  {
   "cell_type": "code",
   "execution_count": 11,
   "id": "2cf4b9ba-2166-424e-b9c9-6993ee52fd8a",
   "metadata": {},
   "outputs": [
    {
     "ename": "IndentationError",
     "evalue": "expected an indented block after 'if' statement on line 1 (2808640146.py, line 2)",
     "output_type": "error",
     "traceback": [
      "\u001b[1;36m  Cell \u001b[1;32mIn[11], line 2\u001b[1;36m\u001b[0m\n\u001b[1;33m    if full_name == first_name + \" \" + \"Myers\":\u001b[0m\n\u001b[1;37m    ^\u001b[0m\n\u001b[1;31mIndentationError\u001b[0m\u001b[1;31m:\u001b[0m expected an indented block after 'if' statement on line 1\n"
     ]
    }
   ],
   "source": [
    "if full_name == \"Mark\" + \" \" + \"Myers\":\n",
    "if full_name == first_name + \" \" + \"Myers\":\n",
    "if full_name == first_name + \" \" + last_name:\n",
    "if total_cost == 81.50 + 135:\n",
    "if total_cost == materials_cost + 135:\n",
    "if total_cost == materials_cost + labor_cost:\n",
    "if x + y == a - b:"
   ]
  },
  {
   "cell_type": "code",
   "execution_count": 13,
   "id": "90d865c2-2eb8-4051-88b6-82534daeedae",
   "metadata": {},
   "outputs": [
    {
     "ename": "SyntaxError",
     "evalue": "invalid syntax (4186600542.py, line 1)",
     "output_type": "error",
     "traceback": [
      "\u001b[1;36m  Cell \u001b[1;32mIn[13], line 1\u001b[1;36m\u001b[0m\n\u001b[1;33m    number_of_husbands == 1:\u001b[0m\n\u001b[1;37m                           ^\u001b[0m\n\u001b[1;31mSyntaxError\u001b[0m\u001b[1;31m:\u001b[0m invalid syntax\n"
     ]
    }
   ],
   "source": [
    "number_of_husbands == 1:\n",
    "print(\"So far so good.\")\n",
    "print(\"Congratulations.\")\n",
    "print(\"All done\")"
   ]
  },
  {
   "cell_type": "code",
   "execution_count": 14,
   "id": "2e794807-b648-4b26-9936-af58ff83bddd",
   "metadata": {},
   "outputs": [
    {
     "ename": "SyntaxError",
     "evalue": "unterminated string literal (detected at line 1) (1338866783.py, line 1)",
     "output_type": "error",
     "traceback": [
      "\u001b[1;36m  Cell \u001b[1;32mIn[14], line 1\u001b[1;36m\u001b[0m\n\u001b[1;33m    print(\"hay I am a good boy\u001b[0m\n\u001b[1;37m          ^\u001b[0m\n\u001b[1;31mSyntaxError\u001b[0m\u001b[1;31m:\u001b[0m unterminated string literal (detected at line 1)\n"
     ]
    }
   ],
   "source": [
    "#print(\"hay I am a good boy\\nand this viewer is alsoa good boy/girl\")"
   ]
  },
  {
   "cell_type": "code",
   "execution_count": 3,
   "id": "14bab06d-8f3d-4149-86d6-55295fb227ee",
   "metadata": {},
   "outputs": [],
   "source": [
    "# 1 line ko 2 hiso yani 2 line ma print krny k ly \\n use krty ha"
   ]
  },
  {
   "cell_type": "markdown",
   "id": "4762a592-e9d6-4d5d-9052-11b7b9d0e9dc",
   "metadata": {},
   "source": [
    "### comments"
   ]
  },
  {
   "cell_type": "code",
   "execution_count": 5,
   "id": "c3d3defa-6330-4ed5-96c2-597de35e4727",
   "metadata": {},
   "outputs": [
    {
     "ename": "IndentationError",
     "evalue": "expected an indented block after 'if' statement on line 1 (2321731077.py, line 2)",
     "output_type": "error",
     "traceback": [
      "\u001b[1;36m  Cell \u001b[1;32mIn[5], line 2\u001b[1;36m\u001b[0m\n\u001b[1;33m    status = \"ok\"\u001b[0m\n\u001b[1;37m    ^\u001b[0m\n\u001b[1;31mIndentationError\u001b[0m\u001b[1;31m:\u001b[0m expected an indented block after 'if' statement on line 1\n"
     ]
    }
   ],
   "source": [
    "if species == \"cat\":\n",
    "status = \"ok\"\n",
    "kingdom = \"animal\"\n",
    "print(\"Yep, it's cat.\")"
   ]
  },
  {
   "cell_type": "code",
   "execution_count": 11,
   "id": "54693e5a-03bc-49b7-806b-5253bdf5ae44",
   "metadata": {},
   "outputs": [
    {
     "ename": "IndentationError",
     "evalue": "expected an indented block after 'if' statement on line 1 (1995345729.py, line 2)",
     "output_type": "error",
     "traceback": [
      "\u001b[1;36m  Cell \u001b[1;32mIn[11], line 2\u001b[1;36m\u001b[0m\n\u001b[1;33m    print(\"Everything makes sense.\")\u001b[0m\n\u001b[1;37m    ^\u001b[0m\n\u001b[1;31mIndentationError\u001b[0m\u001b[1;31m:\u001b[0m expected an indented block after 'if' statement on line 1\n"
     ]
    }
   ],
   "source": [
    "if 2 + 2 == 4:\n",
    "print(\"Everything makes sense.\")"
   ]
  },
  {
   "cell_type": "code",
   "execution_count": 13,
   "id": "9fb903c1-bbaf-4ea1-a3d2-794eb518464a",
   "metadata": {},
   "outputs": [],
   "source": [
    "# line ko comments karny k ly (#.) b use kr sakty ha \n",
    "#     or ctrl + / sy is sy 2 3 line ko b comments kar sakty ha\n",
    "\n",
    "# '''     '''    3single coma my jo b liky gy wo b comment ho jay ga"
   ]
  },
  {
   "cell_type": "code",
   "execution_count": 22,
   "id": "4248b175-234b-4fd5-a7e9-a636087a06eb",
   "metadata": {},
   "outputs": [
    {
     "name": "stdout",
     "output_type": "stream",
     "text": [
      "hay~6~7009\n",
      "9999"
     ]
    }
   ],
   "source": [
    "print(\"hay\", 6, 7, sep=\"~\", end=\"009\\n9999\" )"
   ]
  },
  {
   "cell_type": "code",
   "execution_count": 17,
   "id": "3dad3fd2-114c-4f90-b348-2f962a333033",
   "metadata": {},
   "outputs": [
    {
     "name": "stdout",
     "output_type": "stream",
     "text": [
      "kkkk 5\n"
     ]
    }
   ],
   "source": [
    "print(\"kkkk\", 5)"
   ]
  },
  {
   "cell_type": "code",
   "execution_count": null,
   "id": "d0024bef-96b3-4bfc-9457-c14955026126",
   "metadata": {},
   "outputs": [],
   "source": []
  }
 ],
 "metadata": {
  "kernelspec": {
   "display_name": "Python 3 (ipykernel)",
   "language": "python",
   "name": "python3"
  },
  "language_info": {
   "codemirror_mode": {
    "name": "ipython",
    "version": 3
   },
   "file_extension": ".py",
   "mimetype": "text/x-python",
   "name": "python",
   "nbconvert_exporter": "python",
   "pygments_lexer": "ipython3",
   "version": "3.11.7"
  }
 },
 "nbformat": 4,
 "nbformat_minor": 5
}
