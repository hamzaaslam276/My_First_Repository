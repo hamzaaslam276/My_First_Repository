{
 "cells": [
  {
   "cell_type": "code",
   "execution_count": 1,
   "id": "8dd29e08-7c1c-4b7e-9faa-bfd3a5f12ef3",
   "metadata": {},
   "outputs": [],
   "source": [
    "f_name = \"Hamza\"\n",
    "l_name = \"Aslam\"\n",
    "age = 29\n",
    "weight = 74.5\n",
    "is_trainer = True"
   ]
  },
  {
   "cell_type": "code",
   "execution_count": 2,
   "id": "40f10636-2ed0-4f0f-a112-bc320c32838a",
   "metadata": {},
   "outputs": [
    {
     "data": {
      "text/plain": [
       "'Trainer Name of python class is Hamza Aslam'"
      ]
     },
     "execution_count": 2,
     "metadata": {},
     "output_type": "execute_result"
    }
   ],
   "source": [
    "# METHOD -1 Using + operator\n",
    "\"Trainer Name of python class is \" + f_name + \" \" + l_name"
   ]
  },
  {
   "cell_type": "code",
   "execution_count": 3,
   "id": "e542887d-ed93-41ed-b7ed-9120129e57cd",
   "metadata": {},
   "outputs": [
    {
     "data": {
      "text/plain": [
       "'Trainer Name of python class is Hamza Aslam'"
      ]
     },
     "execution_count": 3,
     "metadata": {},
     "output_type": "execute_result"
    }
   ],
   "source": [
    "# METHOD -2\n",
    "f'Trainer Name of python class is {f_name} {l_name}'"
   ]
  },
  {
   "cell_type": "code",
   "execution_count": 4,
   "id": "22d36d64-c38b-4c31-8796-40605f9a3db7",
   "metadata": {},
   "outputs": [
    {
     "data": {
      "text/plain": [
       "('Trainer Name of python class is', 'Hamza', 'Aslam')"
      ]
     },
     "execution_count": 4,
     "metadata": {},
     "output_type": "execute_result"
    }
   ],
   "source": [
    "'Trainer Name of python class is', f_name, l_name"
   ]
  },
  {
   "cell_type": "code",
   "execution_count": 5,
   "id": "7a15cb56-02c3-4343-ac96-dab163e1cf1a",
   "metadata": {},
   "outputs": [
    {
     "data": {
      "text/plain": [
       "'Trainer Name of python class is Hamza Aslam'"
      ]
     },
     "execution_count": 5,
     "metadata": {},
     "output_type": "execute_result"
    }
   ],
   "source": [
    "# METHOD -3  .format() takes variable to be concate starts at 0 index\n",
    "\"Trainer Name of python class is {0} {1}\" .format(f_name, l_name)"
   ]
  },
  {
   "cell_type": "markdown",
   "id": "9c4169dd-4f67-49c6-b9f9-1d0d88661e23",
   "metadata": {},
   "source": [
    "## Conditional Statements"
   ]
  },
  {
   "cell_type": "markdown",
   "id": "3c8e9a5c-a88d-4efb-979e-31e775961367",
   "metadata": {},
   "source": [
    "#### if-elif-else"
   ]
  },
  {
   "cell_type": "code",
   "execution_count": 6,
   "id": "fc8526e0-4b96-420e-a9e9-7753a0643c78",
   "metadata": {},
   "outputs": [
    {
     "name": "stdout",
     "output_type": "stream",
     "text": [
      "Both teams will get one point\n"
     ]
    }
   ],
   "source": [
    "result = \"tie\" #\"win\"/\"loss\"/\"Tie\"\n",
    "if result == \"win\":\n",
    "    print(\"pakistan's will celebrate\")\n",
    "elif result == \"tie\":\n",
    "    print(\"Both teams will get one point\")\n",
    "else:\n",
    "    print(\"pakistan's will not celebrate\")"
   ]
  },
  {
   "cell_type": "code",
   "execution_count": 7,
   "id": "d5fc8cab-774a-4751-b40e-46a108684173",
   "metadata": {},
   "outputs": [],
   "source": [
    "# if <condition>:\n",
    "    # <if boday>\n",
    "# else <else boday>"
   ]
  },
  {
   "cell_type": "code",
   "execution_count": 8,
   "id": "4d85f27b-f693-4d51-bbf4-d12fa0df4b54",
   "metadata": {},
   "outputs": [
    {
     "name": "stdout",
     "output_type": "stream",
     "text": [
      "pakistan's will celebrate\n"
     ]
    }
   ],
   "source": [
    "result = \"win\" #\"win\"/\"loss\"/\"Tie\"\n",
    "if result == \"win\":\n",
    "    print(\"pakistan's will celebrate\")\n",
    "else:\n",
    "    print(\"pakistan's will not celebrate\")"
   ]
  },
  {
   "cell_type": "code",
   "execution_count": 9,
   "id": "379e86e3-3728-42f2-8713-df3c4ed3bfee",
   "metadata": {},
   "outputs": [
    {
     "data": {
      "text/plain": [
       "True"
      ]
     },
     "execution_count": 9,
     "metadata": {},
     "output_type": "execute_result"
    }
   ],
   "source": [
    "result == \"win\""
   ]
  },
  {
   "cell_type": "code",
   "execution_count": 10,
   "id": "f389fcb7-47c5-46dd-8ed1-f31352fead10",
   "metadata": {},
   "outputs": [
    {
     "name": "stdout",
     "output_type": "stream",
     "text": [
      "toyota_modal_2022\n"
     ]
    }
   ],
   "source": [
    "vehical = \"toyota\" # \"toyta\"/\"mehran\"/\"sanata\"/\"BMW'\n",
    "if vehical == \"toyota\":\n",
    "    print(\"toyota_modal_2022\")\n",
    "elif vehical == \"mehran\":\n",
    "    print(\"mehran_modal_2006\")\n",
    "elif vehical == \"sanata\":\n",
    "    print (\"sanata_modal_2022\")\n",
    "elif vehical == \"BMW\":\n",
    "    print(\"BMW_modal_2024\")\n",
    "else:\n",
    "    print(\"vehical is not availabe\")"
   ]
  },
  {
   "cell_type": "code",
   "execution_count": 11,
   "id": "0c9649b4-2681-40e9-a725-edc52e6d25ef",
   "metadata": {},
   "outputs": [
    {
     "name": "stdout",
     "output_type": "stream",
     "text": [
      "mehran_modal_2006\n"
     ]
    }
   ],
   "source": [
    "vehical = \"mehran\" # \"toyta\"/\"mehran\"/\"sanata\"/\"BMW'\n",
    "if vehical == \"toyota\":\n",
    "    print(\"toyota_modal_2022\")\n",
    "elif vehical == \"mehran\":\n",
    "    print(\"mehran_modal_2006\")\n",
    "elif vehical == \"sanata\":\n",
    "    print (\"sanata_modal_2022\")\n",
    "elif vehical == \"BMW\":\n",
    "    print(\"BMW_modal_2024\")\n",
    "else:\n",
    "    print(\"vehical is not availabe\")"
   ]
  },
  {
   "cell_type": "code",
   "execution_count": 12,
   "id": "975d15be-b4d8-4a59-a7ba-e600a649d21f",
   "metadata": {},
   "outputs": [
    {
     "name": "stdout",
     "output_type": "stream",
     "text": [
      "sanata_modal_2022\n"
     ]
    }
   ],
   "source": [
    "vehical = \"sanata\" # \"toyta\"/\"mehran\"/\"sanata\"/\"BMW'\n",
    "if vehical == \"toyota\":\n",
    "    print(\"toyota_modal_2022\")\n",
    "elif vehical == \"mehran\":\n",
    "    print(\"mehran_modal_2006\")\n",
    "elif vehical == \"sanata\":\n",
    "    print (\"sanata_modal_2022\")\n",
    "elif vehical == \"BMW\":\n",
    "    print(\"BMW_modal_2024\")\n",
    "else:\n",
    "    print(\"vehical is not availabe\")"
   ]
  },
  {
   "cell_type": "code",
   "execution_count": 13,
   "id": "f1d19aa8-762e-40d3-9652-1a82b2bb2f82",
   "metadata": {},
   "outputs": [
    {
     "name": "stdout",
     "output_type": "stream",
     "text": [
      "BMW_modal_2024\n"
     ]
    }
   ],
   "source": [
    "vehical = \"BMW\" # \"toyta\"/\"mehran\"/\"sanata\"/\"BMW'\n",
    "if vehical == \"toyota\":\n",
    "    print(\"toyota_modal_2022\")\n",
    "elif vehical == \"mehran\":\n",
    "    print(\"mehran_modal_2006\")\n",
    "elif vehical == \"sanata\":\n",
    "    print (\"sanata_modal_2022\")\n",
    "elif vehical == \"BMW\":\n",
    "    print(\"BMW_modal_2024\")\n",
    "else:\n",
    "    print(\"vehical is not availabe\")"
   ]
  },
  {
   "cell_type": "code",
   "execution_count": 14,
   "id": "c78510d6-07f6-4426-ad1b-2f6dcbb89437",
   "metadata": {},
   "outputs": [
    {
     "name": "stdin",
     "output_type": "stream",
     "text": [
      "enter your vehical: BMW\n"
     ]
    },
    {
     "name": "stdout",
     "output_type": "stream",
     "text": [
      "BMW_modal_2024\n"
     ]
    }
   ],
   "source": [
    "vehical = input(\"enter your vehical:\") # \"toyta\"/\"mehran\"/\"sanata\"/\"BMW'\n",
    "if vehical == \"toyota\":\n",
    "    print(\"toyota_modal_2022\")\n",
    "elif vehical == \"mehran\":\n",
    "    print(\"mehran_modal_2006\")\n",
    "elif vehical == \"sanata\":\n",
    "    print (\"sanata_modal_2022\")\n",
    "elif vehical == \"BMW\":\n",
    "    print(\"BMW_modal_2024\")\n",
    "else:\n",
    "    print(\"vehical is not availabe\")"
   ]
  },
  {
   "cell_type": "code",
   "execution_count": 15,
   "id": "cd546da7-53be-4226-aa55-f31966bd8343",
   "metadata": {},
   "outputs": [
    {
     "name": "stdout",
     "output_type": "stream",
     "text": [
      "Yep, it's cat.\n"
     ]
    }
   ],
   "source": [
    "species = \"cat\"\n",
    "if species == \"cat\":\n",
    "    status = \"ok\"\n",
    "    kingdom = \"animal\"\n",
    "    print(\"Yep, it's cat.\")"
   ]
  },
  {
   "cell_type": "code",
   "execution_count": 16,
   "id": "fe03ee5d-a7da-4a75-ae40-d2668753b9df",
   "metadata": {},
   "outputs": [
    {
     "name": "stdin",
     "output_type": "stream",
     "text": [
      "enter your marks: 88\n"
     ]
    },
    {
     "name": "stdout",
     "output_type": "stream",
     "text": [
      "your grades is A+\n"
     ]
    }
   ],
   "source": [
    "marks = int(input(\"enter your marks:\"))\n",
    "if marks >= 80:\n",
    "    print(\"your grades is A+\")\n",
    "elif marks >= 70:\n",
    "    print(\"your grades is A\")\n",
    "elif marks >= 60:\n",
    "    print(\"your grades is B\")\n",
    "elif marks >= 50:\n",
    "    print(\"your grades is C\")\n",
    "elif marks >= 40:\n",
    "    print(\"your grades is D\")\n",
    "else:\n",
    "    print(\"your grades is F\")"
   ]
  },
  {
   "cell_type": "code",
   "execution_count": 17,
   "id": "1c283e38-9e6e-4f98-a1d7-33e5617a7af0",
   "metadata": {},
   "outputs": [
    {
     "name": "stdin",
     "output_type": "stream",
     "text": [
      "enter your marks: 77\n"
     ]
    },
    {
     "data": {
      "text/plain": [
       "77"
      ]
     },
     "execution_count": 17,
     "metadata": {},
     "output_type": "execute_result"
    }
   ],
   "source": [
    "int(input(\"enter your marks:\")) #NOTE: input() always returns string output"
   ]
  },
  {
   "cell_type": "markdown",
   "id": "d9ecbf51-7e97-488d-ac43-5850b996ad64",
   "metadata": {},
   "source": [
    "### Comparsion Opertors"
   ]
  },
  {
   "cell_type": "code",
   "execution_count": 18,
   "id": "a5f26536-5ff4-4210-b62b-2e7cbd986f4b",
   "metadata": {},
   "outputs": [
    {
     "data": {
      "text/plain": [
       "False"
      ]
     },
     "execution_count": 18,
     "metadata": {},
     "output_type": "execute_result"
    }
   ],
   "source": [
    "96 == 30"
   ]
  },
  {
   "cell_type": "code",
   "execution_count": 19,
   "id": "dcae78ff-5665-4764-8932-f0ed66d56d55",
   "metadata": {},
   "outputs": [
    {
     "data": {
      "text/plain": [
       "False"
      ]
     },
     "execution_count": 19,
     "metadata": {},
     "output_type": "execute_result"
    }
   ],
   "source": [
    "95<90"
   ]
  },
  {
   "cell_type": "code",
   "execution_count": 20,
   "id": "cbb90f96-8ccf-48d4-b688-98d9050bf1df",
   "metadata": {},
   "outputs": [
    {
     "data": {
      "text/plain": [
       "True"
      ]
     },
     "execution_count": 20,
     "metadata": {},
     "output_type": "execute_result"
    }
   ],
   "source": [
    "95!=90"
   ]
  },
  {
   "cell_type": "code",
   "execution_count": 21,
   "id": "6cd6c30c-e1cd-45a5-ac98-a4d53d1e13d7",
   "metadata": {},
   "outputs": [
    {
     "data": {
      "text/plain": [
       "False"
      ]
     },
     "execution_count": 21,
     "metadata": {},
     "output_type": "execute_result"
    }
   ],
   "source": [
    "95==90"
   ]
  },
  {
   "cell_type": "code",
   "execution_count": 9,
   "id": "c7f1625d-9ebb-4cc7-9968-c2e75aff03e8",
   "metadata": {
    "scrolled": true
   },
   "outputs": [
    {
     "name": "stdout",
     "output_type": "stream",
     "text": [
      "chpyra\n"
     ]
    }
   ],
   "source": [
    "number_of_wife = 4\n",
    "if number_of_wife == 1:\n",
    "    print(\"So far so good.\")\n",
    "    print(\"Congratulations.\")\n",
    "    print(\"All done\")\n",
    "else:\n",
    "    print(\"chpyra\")\n"
   ]
  },
  {
   "cell_type": "code",
   "execution_count": 7,
   "id": "57f9481a-e1fc-485a-88a3-f69ed60e3985",
   "metadata": {},
   "outputs": [
    {
     "name": "stdout",
     "output_type": "stream",
     "text": [
      "2222222\n"
     ]
    }
   ],
   "source": [
    "# full_name = \"Mark\" + \" \" + \"Myers\"\n",
    "# f_name = \"Hamza\"\n",
    "# l_name == \"Aslam\"\n",
    "# full_name = f_name + \" \" + \"Myers\"\n",
    "# full_name == f_name + \" \" + l_name\n",
    "# if full_name == \"Mark\" + \" \" + \"Myers\":\n",
    "#     print(\"111111\")\n",
    "if full_name == f_name + \" \" + \"Myers\":\n",
    "    print(\"2222222\")\n",
    "# if full_name == f_name + \" \" + l_name:\n",
    "    # print(\"3333333\")\n",
    "# if total_cost == 81.50 + 135:\n",
    "# if total_cost == materials_cost + 135:\n",
    "# if total_cost == materials_cost + labor_cost:\n",
    "# if x + y == a - b:"
   ]
  },
  {
   "cell_type": "code",
   "execution_count": 24,
   "id": "75ac38cd-b19e-468a-ab79-3eb2b87a44f9",
   "metadata": {},
   "outputs": [
    {
     "name": "stdout",
     "output_type": "stream",
     "text": [
      "Good luck this time.\n"
     ]
    }
   ],
   "source": [
    "your_ticket_number = 487208\n",
    "if your_ticket_number != 487208:\n",
    "    print(\"Better luck next time.\")\n",
    "else:\n",
    "    print(\"Good luck this time.\")"
   ]
  },
  {
   "cell_type": "code",
   "execution_count": 35,
   "id": "bb819545-a028-4c84-b163-de859ef77226",
   "metadata": {},
   "outputs": [
    {
     "data": {
      "text/plain": [
       "False"
      ]
     },
     "execution_count": 35,
     "metadata": {},
     "output_type": "execute_result"
    }
   ],
   "source": [
    "not True"
   ]
  },
  {
   "cell_type": "code",
   "execution_count": 26,
   "id": "026cc5ca-625d-4822-a70d-a585c2a38156",
   "metadata": {},
   "outputs": [],
   "source": [
    "# # AND => all condition must be TRUE\n",
    "# # OR => one condition must be TRUE\n",
    "# A B  AND   OR    \n",
    "# 0 0   0    0\n",
    "# 1 0   0    1\n",
    "# 0 1   0    1\n",
    "# 1 1   1    1\n",
    "# NOT\n",
    "# 1 --> 0\n",
    "# 0 --> 1"
   ]
  },
  {
   "cell_type": "code",
   "execution_count": 34,
   "id": "bfde41d9-900d-4341-a8e9-b53ce8828178",
   "metadata": {},
   "outputs": [
    {
     "name": "stdout",
     "output_type": "stream",
     "text": [
      "Better luck next time.\n"
     ]
    }
   ],
   "source": [
    "your_ticket_number = 4872080\n",
    "if your_ticket_number != 487208:\n",
    "    print(\"Better luck next time.\")\n",
    "else:\n",
    "    print(\"Good luck this time.\")"
   ]
  },
  {
   "cell_type": "code",
   "execution_count": 27,
   "id": "709c7191-d991-4d66-ab71-c51ecc59fd8c",
   "metadata": {},
   "outputs": [
    {
     "name": "stdout",
     "output_type": "stream",
     "text": [
      "Better lock next time.\n"
     ]
    }
   ],
   "source": [
    "result = \"tie\"\n",
    "if result != \"win\":\n",
    "    print(\"Better lock next time.\")"
   ]
  },
  {
   "cell_type": "code",
   "execution_count": 28,
   "id": "2b10aa82-8adf-4e7f-9fe0-22e3887cffe3",
   "metadata": {},
   "outputs": [
    {
     "name": "stdout",
     "output_type": "stream",
     "text": [
      "15\n"
     ]
    }
   ],
   "source": [
    "all_available = True\n",
    "is_fresh = True\n",
    "price = \"average\" #average, low, high\n",
    "score = 0\n",
    "if all_available:\n",
    "    score += 5\n",
    "if is_fresh:\n",
    "    score += 5\n",
    "if price == \"average\":\n",
    "    score += 5\n",
    "print(score)"
   ]
  },
  {
   "cell_type": "code",
   "execution_count": 29,
   "id": "8dc745f6-cc3c-4a62-b20e-f6f5235181f0",
   "metadata": {},
   "outputs": [
    {
     "name": "stdin",
     "output_type": "stream",
     "text": [
      "Enter your percentage: 60\n",
      "Enter your age: 33\n"
     ]
    },
    {
     "name": "stdout",
     "output_type": "stream",
     "text": [
      "Eligible to take addmission in university\n"
     ]
    }
   ],
   "source": [
    "percenatge_inter = int(input(\"Enter your percentage:\"))\n",
    "age_limit = int(input(\"Enter your age:\"))\n",
    "if (percenatge_inter >= 60) and (age_limit >= 20):\n",
    "    print(\"Eligible to take addmission in university\")\n",
    "else:\n",
    "    print(\"Not Eligible to take addmission in university\")"
   ]
  },
  {
   "cell_type": "code",
   "execution_count": 4,
   "id": "3a14b5af-25ad-4416-985a-6563caa92494",
   "metadata": {},
   "outputs": [
    {
     "name": "stdin",
     "output_type": "stream",
     "text": [
      "Enter your percentage: 39\n",
      "Enter your age: 18\n"
     ]
    },
    {
     "name": "stdout",
     "output_type": "stream",
     "text": [
      "Not Eligible to take addmission in university\n"
     ]
    }
   ],
   "source": [
    "percenatge_inter = int(input(\"Enter your percentage:\"))\n",
    "age_limit = int(input(\"Enter your age:\"))\n",
    "if (percenatge_inter >= 60) or (age_limit >= 20):\n",
    "    print(\"Eligible to take addmission in university\")\n",
    "else:\n",
    "    print(\"Not Eligible to take addmission in university\")"
   ]
  },
  {
   "cell_type": "code",
   "execution_count": 31,
   "id": "eaeb5a12-5c2d-4e69-a258-e92413f82a54",
   "metadata": {},
   "outputs": [
    {
     "name": "stdout",
     "output_type": "stream",
     "text": [
      "Everything makes sense.\n"
     ]
    }
   ],
   "source": [
    "2 + 2 == 4\n",
    "if 2 + 2 == 4:\n",
    "    print(\"Everything makes sense.\")"
   ]
  },
  {
   "cell_type": "code",
   "execution_count": 32,
   "id": "38074c04-a05d-48e1-bc5d-5cd37825220e",
   "metadata": {},
   "outputs": [
    {
     "name": "stdout",
     "output_type": "stream",
     "text": [
      "So far so good.\n"
     ]
    }
   ],
   "source": [
    "number_of_husbands = 1\n",
    "if number_of_husbands == 1:\n",
    "    print(\"So far so good.\")"
   ]
  },
  {
   "cell_type": "code",
   "execution_count": 1,
   "id": "e0df0464-4f5e-4238-8741-2852a8298f04",
   "metadata": {},
   "outputs": [
    {
     "name": "stdout",
     "output_type": "stream",
     "text": [
      "Mark Myers\n"
     ]
    }
   ],
   "source": [
    "full_name = \"Mark\" + \" \" + \"Myers\"\n",
    "if full_name == \"Mark\" + \" \" + \"Myers\":\n",
    "    print(full_name)"
   ]
  },
  {
   "cell_type": "code",
   "execution_count": 36,
   "id": "4ccf0482-4666-402d-a728-e4c0fe2f1290",
   "metadata": {},
   "outputs": [
    {
     "data": {
      "text/plain": [
       "False"
      ]
     },
     "execution_count": 36,
     "metadata": {},
     "output_type": "execute_result"
    }
   ],
   "source": [
    "not True"
   ]
  },
  {
   "cell_type": "code",
   "execution_count": 56,
   "id": "79f6cb82-59a8-47f4-b732-68ef342610b4",
   "metadata": {},
   "outputs": [
    {
     "data": {
      "text/plain": [
       "True"
      ]
     },
     "execution_count": 56,
     "metadata": {},
     "output_type": "execute_result"
    }
   ],
   "source": [
    "1 > 0"
   ]
  },
  {
   "cell_type": "code",
   "execution_count": 57,
   "id": "daa7fce5-1cef-4357-8d59-ac981d1ee86c",
   "metadata": {},
   "outputs": [
    {
     "name": "stdout",
     "output_type": "stream",
     "text": [
      "this value is wrong\n"
     ]
    }
   ],
   "source": [
    "if 1 > 0:\n",
    "    print(\"this value is wrong\")"
   ]
  },
  {
   "cell_type": "code",
   "execution_count": 61,
   "id": "fe74ad3e-f355-4a33-a1ef-22fae0496219",
   "metadata": {},
   "outputs": [
    {
     "name": "stdout",
     "output_type": "stream",
     "text": [
      "1111\n",
      "2222\n",
      "3333\n",
      "4444\n",
      "5555\n",
      "9999\n"
     ]
    }
   ],
   "source": [
    "if 0 < 1:\n",
    "    print(\"1111\")\n",
    "if 1 >= 0:\n",
    "    print(\"2222\")\n",
    "if 1 >= 1:\n",
    "    print(\"3333\")\n",
    "if 0 <= 1:\n",
    "    print(\"4444\")\n",
    "if 1 <= 1:\n",
    "    print(\"5555\")\n",
    "if 0 == 1:\n",
    "    print(\"7777\")\n",
    "if 0 != 1:\n",
    "    print(\"9999\")"
   ]
  },
  {
   "cell_type": "code",
   "execution_count": 12,
   "id": "50d3f157-03d9-429f-9b96-50a399a4d874",
   "metadata": {},
   "outputs": [
    {
     "name": "stdout",
     "output_type": "stream",
     "text": [
      "Yep, it's cat.\n"
     ]
    }
   ],
   "source": [
    "species = \"cat\"\n",
    "if species == \"cat\":\n",
    "    print(\"Yep, it's cat.\")\n",
    "if species != \"cat\":\n",
    "    print(\"Nope, not cat.\")"
   ]
  },
  {
   "cell_type": "code",
   "execution_count": 15,
   "id": "a712f355-bac2-4e21-8a92-ba8602dd4ccf",
   "metadata": {},
   "outputs": [
    {
     "name": "stdout",
     "output_type": "stream",
     "text": [
      "Nope, not cat.\n"
     ]
    }
   ],
   "source": [
    "species = \"catt\"\n",
    "if species == \"cat\":\n",
    "    print(\"Yep, it's cat.\")\n",
    "else:\n",
    "    print(\"Nope, not cat.\")\n"
   ]
  },
  {
   "cell_type": "code",
   "execution_count": 38,
   "id": "21518123-1068-4c0e-a8e5-502d75fd9638",
   "metadata": {},
   "outputs": [
    {
     "name": "stdout",
     "output_type": "stream",
     "text": [
      "5\n"
     ]
    }
   ],
   "source": [
    "donut_condition = \"mfresh\"\n",
    "donut_price = \"low\"\n",
    "if donut_condition == \"fresh\":\n",
    "   buy_score = 10\n",
    "elif donut_price == \"low\":\n",
    "    buy_score = 5\n",
    "else:\n",
    "    buy_score = 0\n",
    "print(buy_score)"
   ]
  },
  {
   "cell_type": "code",
   "execution_count": 36,
   "id": "d358ae9d-5f6b-49c8-a991-aa61ebcd188a",
   "metadata": {},
   "outputs": [
    {
     "name": "stdout",
     "output_type": "stream",
     "text": [
      "10\n"
     ]
    }
   ],
   "source": [
    "donut_condition = \"fresh\"\n",
    "donut_price = \"mlow\"\n",
    "if donut_condition == \"fresh\":\n",
    "    buy_score = 10\n",
    "elif donut_price == \"low\":\n",
    "    buy_score = 5\n",
    "else:\n",
    "    buy_score = 0\n",
    "print(buy_score)"
   ]
  },
  {
   "cell_type": "code",
   "execution_count": 39,
   "id": "2ea55514-a771-42e6-a4bf-c36c87f81466",
   "metadata": {},
   "outputs": [
    {
     "name": "stdout",
     "output_type": "stream",
     "text": [
      "0\n"
     ]
    }
   ],
   "source": [
    "donut_condition = \"mfresh\"\n",
    "donut_price = \"mlow\"\n",
    "if donut_condition == \"fresh\":\n",
    "    buy_score = 10\n",
    "elif donut_price == \"low\":\n",
    "    buy_score = 5\n",
    "else:\n",
    "    buy_score = 0\n",
    "print(buy_score)"
   ]
  },
  {
   "cell_type": "code",
   "execution_count": 54,
   "id": "568d0d75-36be-40f7-ba81-60afa3e5e531",
   "metadata": {},
   "outputs": [
    {
     "name": "stdout",
     "output_type": "stream",
     "text": [
      "22\n"
     ]
    }
   ],
   "source": [
    "donut_condition = \"fresh\"\n",
    "donut_filling = \"chocolate\"\n",
    "donut_price = \"reasonable\"\n",
    "buy_score = 0\n",
    "if donut_condition == \"fresh\":\n",
    "    buy_score += 10\n",
    "if donut_filling == \"chocolate\":\n",
    "    buy_score += 5\n",
    "if donut_price == \"reasonable\":\n",
    "    buy_score += 7\n",
    "print(buy_score)"
   ]
  },
  {
   "cell_type": "code",
   "execution_count": 56,
   "id": "5e7c4e5d-ff87-451b-a71d-d5c6e63c2373",
   "metadata": {},
   "outputs": [
    {
     "ename": "SyntaxError",
     "evalue": "expected ':' (2703205585.py, line 4)",
     "output_type": "error",
     "traceback": [
      "\u001b[1;36m  Cell \u001b[1;32mIn[56], line 4\u001b[1;36m\u001b[0m\n\u001b[1;33m    else e == f:\u001b[0m\n\u001b[1;37m         ^\u001b[0m\n\u001b[1;31mSyntaxError\u001b[0m\u001b[1;31m:\u001b[0m expected ':'\n"
     ]
    }
   ],
   "source": [
    "a = b\n",
    "if a == b:\n",
    "  c = d\n",
    "else e == f:\n",
    "  g = h"
   ]
  },
  {
   "cell_type": "code",
   "execution_count": 64,
   "id": "8824ba11-b75c-451a-99fe-99be15e23577",
   "metadata": {},
   "outputs": [
    {
     "name": "stdout",
     "output_type": "stream",
     "text": [
      "1\n"
     ]
    }
   ],
   "source": [
    "if 2 + 3 == 4:\n",
    "  x = 0\n",
    "elif 2 - 1 == 1:\n",
    "  x = 1\n",
    "elif 3 + 3 == 6:\n",
    "  x = 2\n",
    "else:\n",
    "  x = 3\n",
    "print(x)"
   ]
  },
  {
   "cell_type": "code",
   "execution_count": null,
   "id": "82e26054-36c7-430e-ab58-af3d050628f3",
   "metadata": {},
   "outputs": [],
   "source": []
  }
 ],
 "metadata": {
  "kernelspec": {
   "display_name": "Python 3 (ipykernel)",
   "language": "python",
   "name": "python3"
  },
  "language_info": {
   "codemirror_mode": {
    "name": "ipython",
    "version": 3
   },
   "file_extension": ".py",
   "mimetype": "text/x-python",
   "name": "python",
   "nbconvert_exporter": "python",
   "pygments_lexer": "ipython3",
   "version": "3.11.7"
  }
 },
 "nbformat": 4,
 "nbformat_minor": 5
}
